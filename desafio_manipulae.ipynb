{
  "nbformat": 4,
  "nbformat_minor": 0,
  "metadata": {
    "colab": {
      "name": "desafio_manipulae.ipynb",
      "provenance": [],
      "collapsed_sections": []
    },
    "kernelspec": {
      "name": "python3",
      "display_name": "Python 3"
    },
    "language_info": {
      "name": "python"
    }
  },
  "cells": [
    {
      "cell_type": "code",
      "metadata": {
        "colab": {
          "base_uri": "https://localhost:8080/",
          "height": 126
        },
        "id": "e1zX2iO5KS-8",
        "outputId": "2864f5e2-16b5-4795-f479-d1494e9acf2d"
      },
      "source": [
        "import pandas as pd\n",
        "import numpy as np\n",
        "from datetime import datetime, date\n",
        "import time as time\n",
        "from google.colab import drive\n",
        "#Carregando dados\n",
        "dados = pd.read_csv('https://raw.githubusercontent.com/manipulaeHealth/desafio-machine-learning/main/dados_preco.csv')\n",
        "# verificando as dimensões do DataFrame\n",
        "\n",
        "#print(\"Variáveis:\\t{}\\nEntradas:\\t{}\".format(dados.shape[1], dados.shape[0]))\n",
        "#print(dados.info())\n",
        "#display(dados.head(5))\n",
        "def get_digits(str1):\n",
        "    c = \"\"\n",
        "    for i in str1:\n",
        "        if i.isdigit():\n",
        "            c += i\n",
        "    return c\n",
        "\n",
        "dados['num_caps'] = dados.apply(lambda row: int((row['descricao'].split('|')[0]).replace('CAP','')), axis=1)\n",
        "dados['criado_ano'] = dados.apply(lambda row: datetime.fromisoformat(row['criado']).date().year, axis=1)\n",
        "dados['criado_mes'] = dados.apply(lambda row: datetime.fromisoformat(row['criado']).date().month, axis=1)\n",
        "#dados['criado_tmp'] = dados.apply(lambda row: time.mktime(datetime.fromisoformat(row['criado']).date().timetuple()), axis=1)\n",
        "#dados['criado_tmp'] = dados.apply(lambda row: datetime.strftime(row['criado'],'%Y-%m-%d').date().timestamp(), axis=1)\n",
        "dados['elementos'] = dados['descricao'].map(lambda row: row.split('|')[1])\n",
        "elementos = np.concatenate(dados['elementos'].map(lambda row: row.split(';')),axis=0)\n",
        "#quantidades = []\n",
        "#quantidades.append(list(map(lambda x: get_digits(x[x.rfind(' '):len(x)]),elementos)))\n",
        "elem_principais = []\n",
        "elem_principais.append(list(map(lambda x: x[:x.rfind(' ')].strip(),elementos)))\n",
        "\n",
        "#print(elem_principais)\n",
        "#print(quantidades)\n",
        "\n",
        "elements_uniques = np.unique(elem_principais[0])\n",
        "for element in elements_uniques:\n",
        "  coluna = str(element)\n",
        "  #print(coluna)\n",
        "  dados[coluna] = dados['elementos'].apply(lambda x: ((0, get_digits(x[x.rfind(' '):len(x)])) [x.find(element) == True]))\n",
        "\n",
        "\n",
        "\n",
        "display(dados.info())\n",
        "#display(dados.describe)\n",
        "#display(dados.head())\n",
        "\n",
        "#drive.mount ('/drive')\n",
        "#dados.to_excel('/drive/MyDrive/Colab Notebooks/desafio/desafio_manipulae.xlsx')\n",
        "\n"
      ],
      "execution_count": 287,
      "outputs": [
        {
          "output_type": "stream",
          "name": "stdout",
          "text": [
            "<class 'pandas.core.frame.DataFrame'>\n",
            "RangeIndex: 7121 entries, 0 to 7120\n",
            "Columns: 1651 entries, descricao to ZOLPIDEM HEMITARTARATO\n",
            "dtypes: float64(2), int64(503), object(1146)\n",
            "memory usage: 89.7+ MB\n"
          ]
        },
        {
          "output_type": "display_data",
          "data": {
            "text/plain": [
              "None"
            ]
          },
          "metadata": {}
        }
      ]
    },
    {
      "cell_type": "code",
      "metadata": {
        "colab": {
          "base_uri": "https://localhost:8080/"
        },
        "id": "zl3BiwHdMRj7",
        "outputId": "cf91ffa0-e2e0-4690-9800-fa8dc226253e"
      },
      "source": [
        "from sklearn.model_selection import train_test_split\n",
        "from sklearn.feature_selection import SelectKBest\n",
        "from sklearn.feature_selection import f_regression\n",
        "X = dados.drop(['correto','descricao','elementos','criado'],axis=1)\n",
        "y = dados['correto']\n",
        "\n",
        "X_train, X_test, y_train, y_test = train_test_split(X, y, test_size=0.3)\n",
        "\n",
        "#print('Dados train: ', X_train.shape)\n",
        "print('Dados test:  ', X_test.shape)\n",
        "\n",
        "#fs = SelectKBest(score_func=f_regression, k='all')\n",
        "# learn relationship from training data\n",
        "#fs.fit(X, y)\n",
        "#fs.fit(X_train, y_train)\n",
        "# transform train input data\n",
        "#X_train_fs = fs.transform(X_train)"
      ],
      "execution_count": 288,
      "outputs": [
        {
          "output_type": "stream",
          "name": "stdout",
          "text": [
            "Dados test:   (2137, 1647)\n"
          ]
        }
      ]
    },
    {
      "cell_type": "markdown",
      "metadata": {
        "id": "itqWHqPo05Q8"
      },
      "source": [
        "Teste com Random Forest"
      ]
    },
    {
      "cell_type": "code",
      "metadata": {
        "colab": {
          "base_uri": "https://localhost:8080/"
        },
        "id": "wkQa6gCZNG00",
        "outputId": "db88f27f-d5f8-4c02-88c3-df83d7c5dca8"
      },
      "source": [
        "from sklearn.ensemble import RandomForestRegressor\n",
        "from sklearn.model_selection import KFold\n",
        "from sklearn.model_selection import cross_val_score\n",
        "\n",
        "regr = RandomForestRegressor()\n",
        "regr.fit(X_train,y_train)\n",
        "\n",
        "#cv = KFold(n_splits=10, random_state=1, shuffle=True)\n",
        "#scores = cross_val_score(regr, X_fs, y, scoring='neg_mean_absolute_error', cv=cv, n_jobs=-1)\n",
        "#print(\"Resultado Random Forest\")\n",
        "#print(\"Erros médios padrão: \", scores)\n",
        "#print(\"Erro médio padrão: %0.2f com desvio padrão de %0.2f\" % (scores.mean(), scores.std()))\n",
        "\n",
        "predictions = regr.predict(X_test)# Performance metrics\n",
        "errors = abs(predictions - y_test)\n",
        "print('Erro médio absoluto:', round(np.mean(errors), 2), ' reais.')\n",
        "\n",
        "# Calculate mean absolute percentage error (MAPE)\n",
        "mape = 100 * (errors / y_test)# Calculate and display accuracy\n",
        "accuracy = 100 - np.mean(mape)\n",
        "print('Acurácia:', round(accuracy, 2), '%.')\n"
      ],
      "execution_count": 289,
      "outputs": [
        {
          "output_type": "stream",
          "name": "stdout",
          "text": [
            "Erro médio absoluto: 9.76  reais.\n",
            "Acurácia: 93.84 %.\n"
          ]
        }
      ]
    },
    {
      "cell_type": "markdown",
      "metadata": {
        "id": "1YYdD2rds7Vj"
      },
      "source": [
        "Teste com Rede Neural"
      ]
    },
    {
      "cell_type": "code",
      "metadata": {
        "colab": {
          "base_uri": "https://localhost:8080/",
          "height": 72
        },
        "id": "uU-2MkmxdquF",
        "outputId": "84c854f5-65a0-4f63-b061-75684a8c8578"
      },
      "source": [
        "'''from sklearn.neural_network import MLPRegressor\n",
        "from sklearn.preprocessing import StandardScaler\n",
        "\n",
        "X_standardized = StandardScaler().fit_transform(X_fs)\n",
        "\n",
        "mlp = MLPRegressor()\n",
        "scores = cross_val_score(mlp, X_standardized, y, scoring='neg_mean_absolute_error', cv=cv, n_jobs=-1)\n",
        "print(\"Resultado Redes Neurais\")\n",
        "print(\"Erros médios padrão: \", scores)\n",
        "print(\"Erro médio padrão: %0.2f com desvio padrão de %0.2f\" % (scores.mean(), scores.std()))'''\n",
        "\n"
      ],
      "execution_count": 290,
      "outputs": [
        {
          "output_type": "execute_result",
          "data": {
            "application/vnd.google.colaboratory.intrinsic+json": {
              "type": "string"
            },
            "text/plain": [
              "'from sklearn.neural_network import MLPRegressor\\nfrom sklearn.preprocessing import StandardScaler\\n\\nX_standardized = StandardScaler().fit_transform(X_fs)\\n\\nmlp = MLPRegressor()\\nscores = cross_val_score(mlp, X_standardized, y, scoring=\\'neg_mean_absolute_error\\', cv=cv, n_jobs=-1)\\nprint(\"Resultado Redes Neurais\")\\nprint(\"Erros médios padrão: \", scores)\\nprint(\"Erro médio padrão: %0.2f com desvio padrão de %0.2f\" % (scores.mean(), scores.std()))'"
            ]
          },
          "metadata": {},
          "execution_count": 290
        }
      ]
    },
    {
      "cell_type": "code",
      "metadata": {
        "colab": {
          "base_uri": "https://localhost:8080/",
          "height": 281
        },
        "id": "tzcrehBnGwnm",
        "outputId": "72e0de40-04da-4a5b-8ee6-0fd365fd70d0"
      },
      "source": [
        "#Importando o pyplot\n",
        "from matplotlib import pyplot as plt\n",
        "# Pegando somente os 20 primeiros registros senão o gráfico fica incompreensível\n",
        "# 20 valores no intervalo de 0 a 10\n",
        "#x = np.linspace(0, 50, num=2137)\n",
        "x = np.linspace(0, 10, num=20)\n",
        "\n",
        "# define a legenda e tamanho de linhas\n",
        "#plt.plot(x, predictions[:50], label='predito',color='red', marker='o')\n",
        "#plt.plot(x, y_test[:50], label='correto', color='blue', marker='o')\n",
        "plt.scatter(x, predictions[:20], marker='o',label='Predito',color='red',alpha=0.5);\n",
        "plt.scatter(x, y_test[:20], marker='o',label='Correto',color='blue',alpha=0.5);\n",
        "\n",
        "#plt.xlabel('Num Capsulas')\n",
        "plt.ylabel('Preço')\n",
        "plt.title(\"Comparação entre o preço correto e o preço predito\")\n",
        "# Exibe a legenda e por padrão usa o label de cada plot.\n",
        "plt.legend()\n",
        "\n",
        "# Configurações do texto\n",
        "#plt.text(1.00, 1.0, \"Comparação entre o valor correto e o valor predito\", fontsize=8, horizontalalignment='left')\n",
        "plt.grid(True)\n",
        "plt.show()"
      ],
      "execution_count": 291,
      "outputs": [
        {
          "output_type": "display_data",
          "data": {
            "image/png": "[encoded data removed]",
            "text/plain": [
              "<Figure size 432x288 with 1 Axes>"
            ]
          },
          "metadata": {
            "needs_background": "light"
          }
        }
      ]
    }
  ]
}